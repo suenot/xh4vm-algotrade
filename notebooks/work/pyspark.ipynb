{
 "cells": [
  {
   "cell_type": "code",
   "execution_count": 1,
   "id": "76d7476c-9d5e-48d0-b291-66dff84a6e9d",
   "metadata": {},
   "outputs": [],
   "source": [
    "import backoff\n",
    "from typing import Any\n",
    "\n",
    "BACKOFF_CONFIG: dict[str, Any] = {'wait_gen': backoff.expo, 'exception': Exception, 'max_value': 8}\n",
    "\n",
    "class ClickhouseSettings:\n",
    "    NODES: str = 'clickhouse-node01:9000,clickhouse-node02:9000,clickhouse-node03:9000,clickhouse-node04:9000'\n",
    "    USER: str = 'user'\n",
    "    PASSWORD: str = 'password'\n",
    "\n",
    "class ClickhouseNode1:\n",
    "    HOST: str = 'clickhouse-node01'\n",
    "    PORT: int = 9000\n",
    "    USER: str = 'user'\n",
    "    PASSWORD: str = 'password'\n",
    "\n",
    "class ClickhouseNode2:\n",
    "    HOST: str = 'clickhouse-node02'\n",
    "    PORT: int = 9000\n",
    "    USER: str = 'user'\n",
    "    PASSWORD: str = 'password'\n",
    "\n",
    "class ClickhouseNode3:\n",
    "    HOST: str = 'clickhouse-node03'\n",
    "    PORT: int = 9000\n",
    "    USER: str = 'user'\n",
    "    PASSWORD: str = 'password'\n",
    "\n",
    "class ClickhouseNode4:\n",
    "    HOST: str = 'clickhouse-node04'\n",
    "    PORT: int = 9000\n",
    "    USER: str = 'user'\n",
    "    PASSWORD: str = 'password'\n",
    "\n",
    "CLICKHOUSE_CONFIG = ClickhouseSettings()\n",
    "NODES = [ClickhouseNode1(), ClickhouseNode2(), ClickhouseNode3(), ClickhouseNode4()]\n"
   ]
  },
  {
   "cell_type": "code",
   "execution_count": 2,
   "id": "20744ed6-78c5-4c40-b172-3ea1a5e4ce06",
   "metadata": {},
   "outputs": [],
   "source": [
    "clickhouse_url = f'jdbc:clickhouse://{NODES[0].HOST}:{NODES[0].PORT}'\n",
    "properties = {\n",
    "    'user': NODES[0].USER,\n",
    "    'password': NODES[0].PASSWORD,\n",
    "    'driver': 'com.github.housepower.jdbc.ClickHouseDriver'\n",
    "}"
   ]
  },
  {
   "cell_type": "code",
   "execution_count": 3,
   "id": "34b4a431-7f14-4da6-98fe-4a538684031a",
   "metadata": {},
   "outputs": [
    {
     "name": "stderr",
     "output_type": "stream",
     "text": [
      "23/12/07 20:45:22 WARN NativeCodeLoader: Unable to load native-hadoop library for your platform... using builtin-java classes where applicable\n",
      "Setting default log level to \"WARN\".\n",
      "To adjust logging level use sc.setLogLevel(newLevel). For SparkR, use setLogLevel(newLevel).\n"
     ]
    }
   ],
   "source": [
    "from pyspark.sql import SparkSession\n",
    "\n",
    "appName='clickhouse_connector'\n",
    "spark = SparkSession \\\n",
    "    .builder \\\n",
    "    .appName(appName) \\\n",
    "    .master('spark://spark-master:7077') \\\n",
    "    .config('spark.jars', '/opt/clickhouse-native-jdbc-shaded-2.7.1.jar') \\\n",
    "    .getOrCreate()"
   ]
  },
  {
   "cell_type": "code",
   "execution_count": 4,
   "id": "3c29f508-7028-4397-9147-cfb67e19c99b",
   "metadata": {},
   "outputs": [],
   "source": [
    "query = 'SELECT * from default.candles ORDER BY begin DESC'\n",
    "d = spark.read.format(\"jdbc\") \\\n",
    "    .option('driver', properties.get('driver')) \\\n",
    "    .option('url', clickhouse_url) \\\n",
    "    .option('user', properties.get('user')) \\\n",
    "    .option('password',  properties.get('password')) \\\n",
    "    .option('query', query) \\\n",
    "    .load()"
   ]
  },
  {
   "cell_type": "code",
   "execution_count": 5,
   "id": "d0b6e2e7-43af-4d95-a744-7834997a64d7",
   "metadata": {},
   "outputs": [
    {
     "name": "stderr",
     "output_type": "stream",
     "text": [
      "                                                                                \r"
     ]
    },
    {
     "data": {
      "text/plain": [
       "[Row(id='da387235-41ee-44da-becb-20b7f48827a7', secid='POSI', open=2006.0, close=2006.0, high=2006.0, low=2006.0, value=42126.0, volume=21.0, begin=datetime.datetime(2023, 12, 7, 16, 20), end=datetime.datetime(2023, 12, 7, 16, 20, 59), created_at=datetime.datetime(2023, 12, 7, 13, 35)),\n",
       " Row(id='ad120f17-3a3a-4b06-b282-1c0c04d6fc4b', secid='RTKM', open=71.0, close=70.95, high=71.0, low=70.95, value=100774.4, volume=1420.0, begin=datetime.datetime(2023, 12, 7, 16, 20), end=datetime.datetime(2023, 12, 7, 16, 20, 59), created_at=datetime.datetime(2023, 12, 7, 13, 35)),\n",
       " Row(id='30106fef-f459-4b99-b270-94c638981c67', secid='SIBN', open=850.15, close=851.1, high=851.1, low=850.15, value=5274909.349999998, volume=6201.0, begin=datetime.datetime(2023, 12, 7, 16, 20), end=datetime.datetime(2023, 12, 7, 16, 20, 59), created_at=datetime.datetime(2023, 12, 7, 13, 35)),\n",
       " Row(id='3a3e5880-de9d-4d29-9fb2-452ba7c859a8', secid='SELG', open=61.16, close=61.06, high=61.3, low=61.06, value=261403.0, volume=4280.0, begin=datetime.datetime(2023, 12, 7, 16, 20), end=datetime.datetime(2023, 12, 7, 16, 20, 59), created_at=datetime.datetime(2023, 12, 7, 13, 35)),\n",
       " Row(id='cf4dbdde-5403-4059-96c9-444f951592ca', secid='UPRO', open=1.935, close=1.934, high=1.937, low=1.932, value=1106272.0, volume=572000.0, begin=datetime.datetime(2023, 12, 7, 16, 20), end=datetime.datetime(2023, 12, 7, 16, 20, 59), created_at=datetime.datetime(2023, 12, 7, 13, 35)),\n",
       " Row(id='f8a1ae95-ec63-4841-96ac-218b157de83d', secid='TATNP', open=623.9, close=623.9, high=624.3, low=623.8, value=60513.5, volume=97.0, begin=datetime.datetime(2023, 12, 7, 16, 20), end=datetime.datetime(2023, 12, 7, 16, 20, 59), created_at=datetime.datetime(2023, 12, 7, 13, 35)),\n",
       " Row(id='715cb322-8e8f-43d8-91c6-46eace257c9e', secid='TRMK', open=191.24, close=191.72, high=191.72, low=191.12, value=2759115.600000001, volume=14420.0, begin=datetime.datetime(2023, 12, 7, 16, 20), end=datetime.datetime(2023, 12, 7, 16, 20, 59), created_at=datetime.datetime(2023, 12, 7, 13, 35)),\n",
       " Row(id='3b27bc5a-b115-4851-99aa-d9667c0b8bf9', secid='RNFT', open=124.5, close=124.3, high=124.6, low=124.3, value=564573.7, volume=4539.0, begin=datetime.datetime(2023, 12, 7, 16, 20), end=datetime.datetime(2023, 12, 7, 16, 20, 59), created_at=datetime.datetime(2023, 12, 7, 13, 35)),\n",
       " Row(id='bfc642d9-e780-470e-9964-40728767fedd', secid='SBERP', open=264.91, close=264.66, high=264.91, low=264.66, value=301871.19999999995, volume=1140.0, begin=datetime.datetime(2023, 12, 7, 16, 20), end=datetime.datetime(2023, 12, 7, 16, 20, 59), created_at=datetime.datetime(2023, 12, 7, 13, 35)),\n",
       " Row(id='a3162be7-bef2-4884-96c4-87d43ecd1ec8', secid='QIWI', open=471.0, close=470.0, high=471.0, low=470.0, value=34799.0, volume=74.0, begin=datetime.datetime(2023, 12, 7, 16, 20), end=datetime.datetime(2023, 12, 7, 16, 20, 59), created_at=datetime.datetime(2023, 12, 7, 13, 35)),\n",
       " Row(id='dbac6564-44bf-416e-a789-b38e026cf4f5', secid='SMLT', open=3850.5, close=3850.0, high=3852.0, low=3850.0, value=1001024.5, volume=260.0, begin=datetime.datetime(2023, 12, 7, 16, 20), end=datetime.datetime(2023, 12, 7, 16, 20, 59), created_at=datetime.datetime(2023, 12, 7, 13, 35)),\n",
       " Row(id='94e27a44-6869-487c-9ad1-4abe4f87c03a', secid='SOFL', open=136.54, close=136.72, high=136.76, low=136.1, value=199442.2, volume=1460.0, begin=datetime.datetime(2023, 12, 7, 16, 20), end=datetime.datetime(2023, 12, 7, 16, 20, 59), created_at=datetime.datetime(2023, 12, 7, 13, 35)),\n",
       " Row(id='bb14a318-b6f1-43d2-9a9c-b1f5557bd07d', secid='TCSG', open=3100.0, close=3100.5, high=3100.5, low=3100.0, value=77500.5, volume=25.0, begin=datetime.datetime(2023, 12, 7, 16, 20), end=datetime.datetime(2023, 12, 7, 16, 20, 59), created_at=datetime.datetime(2023, 12, 7, 13, 35)),\n",
       " Row(id='814b978c-34a3-497c-bb4f-3c6fb2b94d12', secid='RUAL', open=35.875, close=35.84, high=35.875, low=35.84, value=118643.05, volume=3310.0, begin=datetime.datetime(2023, 12, 7, 16, 20), end=datetime.datetime(2023, 12, 7, 16, 20, 59), created_at=datetime.datetime(2023, 12, 7, 13, 35)),\n",
       " Row(id='e86c68a8-7c94-4452-bb42-f430e00fb7aa', secid='SNGSP', open=55.745, close=55.72, high=55.745, low=55.72, value=445848.0, volume=8000.0, begin=datetime.datetime(2023, 12, 7, 16, 20), end=datetime.datetime(2023, 12, 7, 16, 20, 59), created_at=datetime.datetime(2023, 12, 7, 13, 35))]"
      ]
     },
     "execution_count": 5,
     "metadata": {},
     "output_type": "execute_result"
    }
   ],
   "source": [
    "d.take(15)"
   ]
  },
  {
   "cell_type": "code",
   "execution_count": null,
   "id": "53a89556-a3ef-4793-8217-340f070bbfb9",
   "metadata": {},
   "outputs": [],
   "source": []
  }
 ],
 "metadata": {
  "kernelspec": {
   "display_name": "Python 3 (ipykernel)",
   "language": "python",
   "name": "python3"
  },
  "language_info": {
   "codemirror_mode": {
    "name": "ipython",
    "version": 3
   },
   "file_extension": ".py",
   "mimetype": "text/x-python",
   "name": "python",
   "nbconvert_exporter": "python",
   "pygments_lexer": "ipython3",
   "version": "3.11.6"
  }
 },
 "nbformat": 4,
 "nbformat_minor": 5
}

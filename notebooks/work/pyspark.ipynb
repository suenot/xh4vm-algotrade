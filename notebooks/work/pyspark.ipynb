{
 "cells": [
  {
   "cell_type": "code",
   "execution_count": 1,
   "id": "76d7476c-9d5e-48d0-b291-66dff84a6e9d",
   "metadata": {},
   "outputs": [],
   "source": [
    "import backoff\n",
    "from typing import Any\n",
    "\n",
    "BACKOFF_CONFIG: dict[str, Any] = {'wait_gen': backoff.expo, 'exception': Exception, 'max_value': 8}\n",
    "\n",
    "class ClickhouseSettings:\n",
    "    NODES: str = 'clickhouse-node01:9000,clickhouse-node02:9000,clickhouse-node03:9000,clickhouse-node04:9000'\n",
    "    USER: str = 'user'\n",
    "    PASSWORD: str = 'password'\n",
    "\n",
    "class ClickhouseNode1:\n",
    "    HOST: str = 'clickhouse-node01'\n",
    "    PORT: int = 9000\n",
    "    USER: str = 'user'\n",
    "    PASSWORD: str = 'password'\n",
    "\n",
    "class ClickhouseNode2:\n",
    "    HOST: str = 'clickhouse-node02'\n",
    "    PORT: int = 9000\n",
    "    USER: str = 'user'\n",
    "    PASSWORD: str = 'password'\n",
    "\n",
    "class ClickhouseNode3:\n",
    "    HOST: str = 'clickhouse-node03'\n",
    "    PORT: int = 9000\n",
    "    USER: str = 'user'\n",
    "    PASSWORD: str = 'password'\n",
    "\n",
    "class ClickhouseNode4:\n",
    "    HOST: str = 'clickhouse-node04'\n",
    "    PORT: int = 9000\n",
    "    USER: str = 'user'\n",
    "    PASSWORD: str = 'password'\n",
    "\n",
    "CLICKHOUSE_CONFIG = ClickhouseSettings()\n",
    "NODES = [ClickhouseNode1(), ClickhouseNode2(), ClickhouseNode3(), ClickhouseNode4()]\n"
   ]
  },
  {
   "cell_type": "code",
   "execution_count": 2,
   "id": "20744ed6-78c5-4c40-b172-3ea1a5e4ce06",
   "metadata": {},
   "outputs": [],
   "source": [
    "clickhouse_url = f'jdbc:clickhouse://{NODES[0].HOST}:{NODES[0].PORT}'\n",
    "properties = {\n",
    "    'user': NODES[0].USER,\n",
    "    'password': NODES[0].PASSWORD,\n",
    "    'driver': 'com.github.housepower.jdbc.ClickHouseDriver'\n",
    "}"
   ]
  },
  {
   "cell_type": "code",
   "execution_count": 3,
   "id": "34b4a431-7f14-4da6-98fe-4a538684031a",
   "metadata": {},
   "outputs": [
    {
     "name": "stderr",
     "output_type": "stream",
     "text": [
      "23/12/07 12:54:51 WARN NativeCodeLoader: Unable to load native-hadoop library for your platform... using builtin-java classes where applicable\n",
      "Setting default log level to \"WARN\".\n",
      "To adjust logging level use sc.setLogLevel(newLevel). For SparkR, use setLogLevel(newLevel).\n"
     ]
    }
   ],
   "source": [
    "from pyspark.sql import SparkSession\n",
    "\n",
    "appName='clickhouse_connector'\n",
    "spark = SparkSession \\\n",
    "    .builder \\\n",
    "    .appName(appName) \\\n",
    "    .master('spark://spark-master:7077') \\\n",
    "    .config('spark.jars', '/opt/clickhouse-native-jdbc-shaded-2.7.1.jar') \\\n",
    "    .getOrCreate()"
   ]
  },
  {
   "cell_type": "code",
   "execution_count": 4,
   "id": "3c29f508-7028-4397-9147-cfb67e19c99b",
   "metadata": {},
   "outputs": [],
   "source": [
    "query = 'SELECT * from default.candles ORDER BY begin DESC'\n",
    "d = spark.read.format(\"jdbc\") \\\n",
    "    .option('driver', properties.get('driver')) \\\n",
    "    .option('url', clickhouse_url) \\\n",
    "    .option('user', properties.get('user')) \\\n",
    "    .option('password',  properties.get('password')) \\\n",
    "    .option('query', query) \\\n",
    "    .load()"
   ]
  },
  {
   "cell_type": "code",
   "execution_count": 6,
   "id": "d0b6e2e7-43af-4d95-a744-7834997a64d7",
   "metadata": {},
   "outputs": [
    {
     "name": "stderr",
     "output_type": "stream",
     "text": [
      "                                                                                \r"
     ]
    },
    {
     "data": {
      "text/plain": [
       "[Row(id='216b49a7-eb2f-4bb8-885a-ea0b02d00276', secid='ABIO', open=37.07, close=37.07, high=37.07, low=37.07, value=3707.0, volume=100.0, begin=datetime.datetime(2021, 6, 25, 14, 53), end=datetime.datetime(2021, 6, 25, 14, 53, 59), created_at=datetime.datetime(2023, 12, 7, 9, 52, 52)),\n",
       " Row(id='dbca6691-e929-42ca-aa1c-4f5845f664e0', secid='ABIO', open=37.01, close=37.0, high=37.01, low=37.0, value=118404.0, volume=3200.0, begin=datetime.datetime(2021, 6, 25, 14, 45), end=datetime.datetime(2021, 6, 25, 14, 45, 59), created_at=datetime.datetime(2023, 12, 7, 9, 52, 52)),\n",
       " Row(id='e140d370-fe23-46cf-b808-58c8e169cd42', secid='ABIO', open=37.01, close=37.0, high=37.08, low=37.0, value=25911.0, volume=700.0, begin=datetime.datetime(2021, 6, 25, 14, 42), end=datetime.datetime(2021, 6, 25, 14, 42, 59), created_at=datetime.datetime(2023, 12, 7, 9, 52, 52)),\n",
       " Row(id='a0c2bb33-450e-45f4-a201-01c0c914f8ab', secid='ABIO', open=37.0, close=37.02, high=37.02, low=37.0, value=29612.0, volume=800.0, begin=datetime.datetime(2021, 6, 25, 14, 40), end=datetime.datetime(2021, 6, 25, 14, 40, 59), created_at=datetime.datetime(2023, 12, 7, 9, 52, 52)),\n",
       " Row(id='1621613d-cd36-4de9-abc4-d35dc5f4c134', secid='ABIO', open=36.9, close=37.0, high=37.0, low=36.9, value=184904.0, volume=5000.0, begin=datetime.datetime(2021, 6, 25, 14, 37), end=datetime.datetime(2021, 6, 25, 14, 37, 59), created_at=datetime.datetime(2023, 12, 7, 9, 52, 52)),\n",
       " Row(id='bc9f8210-0d96-440a-a744-c88d83382606', secid='ABIO', open=36.79, close=36.81, high=36.81, low=36.79, value=44166.0, volume=1200.0, begin=datetime.datetime(2021, 6, 25, 14, 36), end=datetime.datetime(2021, 6, 25, 14, 36, 59), created_at=datetime.datetime(2023, 12, 7, 9, 52, 52)),\n",
       " Row(id='39c868fd-d6c8-4f53-adfe-72d7145b5d75', secid='ABIO', open=36.75, close=36.75, high=36.75, low=36.75, value=3675.0, volume=100.0, begin=datetime.datetime(2021, 6, 25, 14, 34), end=datetime.datetime(2021, 6, 25, 14, 34, 59), created_at=datetime.datetime(2023, 12, 7, 9, 52, 52)),\n",
       " Row(id='971ed33f-1695-42ff-a4f4-cb968e1bda36', secid='ABIO', open=36.73, close=36.75, high=36.75, low=36.73, value=58780.0, volume=1600.0, begin=datetime.datetime(2021, 6, 25, 14, 33), end=datetime.datetime(2021, 6, 25, 14, 33, 59), created_at=datetime.datetime(2023, 12, 7, 9, 52, 52)),\n",
       " Row(id='6d774d9a-2a82-49c7-883f-924ddb3caceb', secid='ABIO', open=36.58, close=36.7, high=36.7, low=36.58, value=366692.0, volume=10000.0, begin=datetime.datetime(2021, 6, 25, 14, 32), end=datetime.datetime(2021, 6, 25, 14, 32, 59), created_at=datetime.datetime(2023, 12, 7, 9, 52, 52)),\n",
       " Row(id='eecaf173-d983-4d27-819a-07a40e1e32da', secid='ABIO', open=36.29, close=36.6, high=36.6, low=36.29, value=365680.0, volume=10000.0, begin=datetime.datetime(2021, 6, 25, 14, 31), end=datetime.datetime(2021, 6, 25, 14, 31, 59), created_at=datetime.datetime(2023, 12, 7, 9, 52, 52)),\n",
       " Row(id='0a5fce9a-5641-4aa7-ad3b-9f6c85e94e1b', secid='ABIO', open=36.24, close=36.24, high=36.24, low=36.24, value=3624.0, volume=100.0, begin=datetime.datetime(2021, 6, 25, 14, 25), end=datetime.datetime(2021, 6, 25, 14, 25, 59), created_at=datetime.datetime(2023, 12, 7, 9, 52, 52)),\n",
       " Row(id='7d6ccef0-810a-4008-af69-739597ba189a', secid='ABIO', open=36.12, close=36.12, high=36.12, low=36.12, value=7224.0, volume=200.0, begin=datetime.datetime(2021, 6, 25, 14, 18), end=datetime.datetime(2021, 6, 25, 14, 18, 59), created_at=datetime.datetime(2023, 12, 7, 9, 52, 52)),\n",
       " Row(id='65a195cf-05e3-40d6-9c6e-4363a129c4d3', secid='ABIO', open=36.14, close=36.12, high=36.14, low=36.12, value=25292.0, volume=700.0, begin=datetime.datetime(2021, 6, 25, 14, 14), end=datetime.datetime(2021, 6, 25, 14, 14, 59), created_at=datetime.datetime(2023, 12, 7, 9, 52, 52)),\n",
       " Row(id='2efec490-b939-4254-82eb-63d6495943e6', secid='ABIO', open=36.25, close=36.12, high=36.25, low=36.12, value=90367.0, volume=2500.0, begin=datetime.datetime(2021, 6, 25, 14, 13), end=datetime.datetime(2021, 6, 25, 14, 13, 59), created_at=datetime.datetime(2023, 12, 7, 9, 52, 52)),\n",
       " Row(id='0c1311d3-edab-4ae2-8753-5c0f60de4596', secid='ABIO', open=36.39, close=36.42, high=36.42, low=36.38, value=87389.0, volume=2400.0, begin=datetime.datetime(2021, 6, 25, 14, 9), end=datetime.datetime(2021, 6, 25, 14, 9, 59), created_at=datetime.datetime(2023, 12, 7, 9, 52, 52))]"
      ]
     },
     "execution_count": 6,
     "metadata": {},
     "output_type": "execute_result"
    }
   ],
   "source": [
    "d.take(15)"
   ]
  },
  {
   "cell_type": "code",
   "execution_count": null,
   "id": "53a89556-a3ef-4793-8217-340f070bbfb9",
   "metadata": {},
   "outputs": [],
   "source": []
  }
 ],
 "metadata": {
  "kernelspec": {
   "display_name": "Python 3 (ipykernel)",
   "language": "python",
   "name": "python3"
  },
  "language_info": {
   "codemirror_mode": {
    "name": "ipython",
    "version": 3
   },
   "file_extension": ".py",
   "mimetype": "text/x-python",
   "name": "python",
   "nbconvert_exporter": "python",
   "pygments_lexer": "ipython3",
   "version": "3.11.6"
  }
 },
 "nbformat": 4,
 "nbformat_minor": 5
}
